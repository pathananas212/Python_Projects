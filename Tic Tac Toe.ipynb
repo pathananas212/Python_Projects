{
  "nbformat": 4,
  "nbformat_minor": 0,
  "metadata": {
    "colab": {
      "name": "Milestone project-1",
      "provenance": [],
      "collapsed_sections": []
    },
    "kernelspec": {
      "name": "python3",
      "display_name": "Python 3"
    },
    "language_info": {
      "name": "python"
    }
  },
  "cells": [
    {
      "cell_type": "markdown",
      "source": [
        "**Step 1**"
      ],
      "metadata": {
        "id": "zHd_WyeKHxL2"
      }
    },
    {
      "cell_type": "code",
      "execution_count": null,
      "metadata": {
        "id": "BM3j8z_luUcS"
      },
      "outputs": [],
      "source": [
        "Welcome to Tic Tac Toe Game\n",
        "from IPython.display import clear_output \n",
        "\n",
        "\n",
        "\n",
        "clear_output()\n",
        "\n",
        "\n",
        "def display_board(board):\n",
        "\n",
        "  print(board[7]+'|'+board[8]+'|'+board[9]+'|')\n",
        "  #print(\" |\"*3)\n",
        "  #print(\" |\"*3)\n",
        "  print(' -----')\n",
        "  print(board[4]+'|'+board[5]+'|'+board[6]+'|')\n",
        "  #print(\" |\"*3)\n",
        " # print(\" |\"*3)\n",
        "  print(' -----')\n",
        "  print(board[1]+'|'+board[2]+'|'+board[3]+'|')\n",
        "  #print(\" |\"*3)\n",
        "  #print(\" |\"*3)\n",
        "  print(' -----')\n",
        "  pass\n"
      ]
    },
    {
      "cell_type": "code",
      "source": [
        "test_board = ['#','X','X','X',' ',' ',' ',' ',' ',' ']\n",
        "print(test_board[1:4])\n",
        "\n",
        "posible1=['X','X','X']\n",
        "\n",
        "if test_board[1:4]==posible1:\n",
        "  print(\"X wins\")\n"
      ],
      "metadata": {
        "colab": {
          "base_uri": "https://localhost:8080/"
        },
        "id": "ikGMUm3lzbeN",
        "outputId": "5cb66179-6d54-42f1-ba9f-8d8811825261"
      },
      "execution_count": null,
      "outputs": [
        {
          "output_type": "stream",
          "name": "stdout",
          "text": [
            "['X', 'X', 'X']\n",
            "X wins\n"
          ]
        }
      ]
    },
    {
      "cell_type": "code",
      "source": [
        ""
      ],
      "metadata": {
        "id": "hbPGNsHl37Aa"
      },
      "execution_count": null,
      "outputs": []
    },
    {
      "cell_type": "markdown",
      "source": [
        "**Step 2:**"
      ],
      "metadata": {
        "id": "YOhB3kVYHu2E"
      }
    },
    {
      "cell_type": "code",
      "source": [
        "def player_input():\n",
        "  player1=' '\n",
        "  player2=' '\n",
        "\n",
        "  while player1!='X'  and  player1!='O' :\n",
        "    \n",
        "    player1=input(\"Do you want to be 'X' or 'O': \")\n",
        "    \n",
        "    if player1=='X':\n",
        "      \n",
        "      player2='O'\n",
        "      print(\"Player 1(X) will go first\")\n",
        "\n",
        "    else:\n",
        "      player2='X'\n",
        "      print(\"Player 1(O) will go first\")\n",
        "  return player1,player2"
      ],
      "metadata": {
        "id": "fZPeoUGM3XI0"
      },
      "execution_count": null,
      "outputs": []
    },
    {
      "cell_type": "code",
      "source": [
        "player_1,player_2=player_input()\n",
        "print(player_1,player_2)"
      ],
      "metadata": {
        "colab": {
          "base_uri": "https://localhost:8080/"
        },
        "id": "ea3qEQ0d074V",
        "outputId": "0851a462-4b61-4b98-b5b4-f6edb936b6f6"
      },
      "execution_count": null,
      "outputs": [
        {
          "output_type": "stream",
          "name": "stdout",
          "text": [
            "Do you want to be 'X' or 'O': O\n",
            "Player 2 will go first\n",
            "O X\n"
          ]
        }
      ]
    },
    {
      "cell_type": "markdown",
      "source": [
        "**Step 3**"
      ],
      "metadata": {
        "id": "XIJCKQCLHqVt"
      }
    },
    {
      "cell_type": "code",
      "source": [
        "def place_marker(board,marker,position):\n",
        "\n",
        "    board[position]=marker\n",
        "    \n",
        "    return board"
      ],
      "metadata": {
        "id": "991hm9E96yMs"
      },
      "execution_count": null,
      "outputs": []
    },
    {
      "cell_type": "code",
      "source": [
        "place_marker(test_board,'O',7)\n",
        "place_marker(test_board,'O',6)\n",
        "place_marker(test_board,'O',3)\n",
        "\n",
        "\n",
        "\n",
        "\n",
        "\n",
        "\n",
        "\n",
        "\n",
        "\n",
        "\n",
        "x=display_board(test_board)\n",
        "x\n"
      ],
      "metadata": {
        "colab": {
          "base_uri": "https://localhost:8080/"
        },
        "id": "Ny-gxqQ78N2U",
        "outputId": "9bc88f99-b57d-4968-a73b-3a49a3ac8da8"
      },
      "execution_count": null,
      "outputs": [
        {
          "output_type": "stream",
          "name": "stdout",
          "text": [
            "O| | |\n",
            " -----\n",
            " | |O|\n",
            " -----\n",
            "X| |O|\n",
            " -----\n"
          ]
        }
      ]
    },
    {
      "cell_type": "markdown",
      "source": [
        "**Step 4:**"
      ],
      "metadata": {
        "id": "jxII_HJuHmNj"
      }
    },
    {
      "cell_type": "code",
      "source": [
        "def win_check(board,mark):\n",
        "  #just you have to adjust the mark value\n",
        "  if(mark=='X'):\n",
        "\n",
        "    if(board[1]=='X'  and board[2]=='X' and board[3]=='X'):\n",
        "\n",
        "     return True\n",
        "  \n",
        "    elif(board[4]=='X'  and board[5]=='X' and board[6]=='X'):\n",
        "     return True\n",
        "    \n",
        "    elif(board[1]=='X'  and board[4]=='X' and board[7]=='X'):\n",
        "     return True\n",
        "\n",
        "    elif(board[8]=='X'  and board[5]=='X' and board[2]=='X'):\n",
        "     return True\n",
        "    \n",
        "    elif(board[9]=='X'  and board[6]=='X' and board[3]=='X'):\n",
        "     return True\n",
        "  \n",
        "    elif(board[7]=='X'  and board[8]=='X' and board[9]=='X'):\n",
        "     return True\n",
        "    \n",
        "    elif(board[7]=='X'  and board[5]=='X' and board[3]=='X'):\n",
        "     return True\n",
        "    \n",
        "    elif(board[1]=='X'  and board[5]=='X' and board[9]=='X'):\n",
        "     #print('hiii')\n",
        "     return True\n",
        "  \n",
        "  elif(mark=='O'):\n",
        "    if(board[1]=='O'  and board[2]=='O' and board[3]=='O'):\n",
        "      #print(\"xx\")\n",
        "      return True\n",
        "  \n",
        "    elif(board[4]=='O' and board[5]=='O' and board[6]=='O'):\n",
        "     return True\n",
        "  \n",
        "    elif(board[7]=='O'  and board[8]=='O' and board[9]=='O'):\n",
        "      #print(\"ll\")\n",
        "      return True\n",
        "  \n",
        "   \n",
        "  \n",
        "    elif(board[7]=='O'  and board[5]=='O' and board[3]=='O'):\n",
        "     #print('hii')\n",
        "     return True\n",
        "  \n",
        "    \n",
        "  \n",
        "    elif(board[1]=='O'  and board[5]=='O' and board[9]=='O'):\n",
        "     return True\n",
        "    \n",
        "    elif(board[1]=='O'  and board[4]=='O' and board[7]=='O'):\n",
        "     return True\n",
        "\n",
        "    elif(board[8]=='O'  and board[5]=='O' and board[2]=='O'):\n",
        "     return True\n",
        "    \n",
        "    elif(board[9]=='O'  and board[6]=='O' and board[3]=='O'):\n",
        "     return True\n",
        "  \n",
        "    else:\n",
        "     return False\n",
        "  \n",
        "  else:\n",
        "    return False\n",
        "  \n",
        "\n",
        "\n",
        "  \n",
        "    \n",
        "  \n",
        "    \n",
        "  \n",
        "  \n",
        "\n",
        "  "
      ],
      "metadata": {
        "id": "YWhdxn3N8wuW"
      },
      "execution_count": null,
      "outputs": []
    },
    {
      "cell_type": "markdown",
      "source": [
        "**Step 5**"
      ],
      "metadata": {
        "id": "u9nIu_I5Hhu9"
      }
    },
    {
      "cell_type": "code",
      "source": [
        "import random\n",
        "def choose_first():\n",
        "  \n",
        "  x=random.randint(1,2)\n",
        "  \n",
        "  if(x==1):\n",
        "   x='X'\n",
        "   \n",
        "  elif(x==2):\n",
        "   x='O'\n",
        "   \n",
        "  return x"
      ],
      "metadata": {
        "id": "5PFdIykFFYyR"
      },
      "execution_count": null,
      "outputs": []
    },
    {
      "cell_type": "code",
      "source": [
        "marker=choose_first()\n",
        "\n",
        "if marker==player_1 or marker==player_2:\n",
        "  print(player_1,player_2)\n",
        "\n",
        "elif marker==player_2 or marker==player_1:\n",
        "  print(player_2,player_1)\n"
      ],
      "metadata": {
        "colab": {
          "base_uri": "https://localhost:8080/"
        },
        "id": "WJulqRsVHZly",
        "outputId": "084d78b3-bc4f-4b18-e2f4-d4960e3eb232"
      },
      "execution_count": null,
      "outputs": [
        {
          "output_type": "stream",
          "name": "stdout",
          "text": [
            "X O\n"
          ]
        }
      ]
    },
    {
      "cell_type": "markdown",
      "source": [
        "**Step:-6**"
      ],
      "metadata": {
        "id": "5iSlj3YzzQIF"
      }
    },
    {
      "cell_type": "code",
      "source": [
        "def space_check(board,position):\n",
        "  \n",
        "  for i in board:\n",
        "    if(board[position]==' '):\n",
        "      #print(board[position])\n",
        "\n",
        "      return True\n",
        "    \n",
        "    else:\n",
        "      return False"
      ],
      "metadata": {
        "id": "Q7uHL6QMy3Ya"
      },
      "execution_count": null,
      "outputs": []
    },
    {
      "cell_type": "code",
      "source": [
        "space_check(test_board,9)"
      ],
      "metadata": {
        "colab": {
          "base_uri": "https://localhost:8080/"
        },
        "id": "eddzPLFt0buh",
        "outputId": "38074a66-312c-4300-d150-8f10c46377f3"
      },
      "execution_count": null,
      "outputs": [
        {
          "output_type": "execute_result",
          "data": {
            "text/plain": [
              "True"
            ]
          },
          "metadata": {},
          "execution_count": 204
        }
      ]
    },
    {
      "cell_type": "markdown",
      "source": [
        "**step:-7**"
      ],
      "metadata": {
        "id": "6mrGRtIE2Ok3"
      }
    },
    {
      "cell_type": "code",
      "source": [
        "def full_board_check(board):\n",
        "\n",
        "  for i in board:       #for else loop use\n",
        "    if(i=='#'):\n",
        "      continue\n",
        "\n",
        "    elif(i==' '):\n",
        "      return False\n",
        "    \n",
        "  else:\n",
        "      return True"
      ],
      "metadata": {
        "id": "BUANQ4jg2NZ1"
      },
      "execution_count": null,
      "outputs": []
    },
    {
      "cell_type": "code",
      "source": [
        "full_board_check(test_board)\n",
        "#print(test_board)\n"
      ],
      "metadata": {
        "colab": {
          "base_uri": "https://localhost:8080/"
        },
        "id": "nXEiVw8c2s9Z",
        "outputId": "3a1d61ea-2d3c-45f8-e6c8-a60afcb9b0af"
      },
      "execution_count": null,
      "outputs": [
        {
          "output_type": "execute_result",
          "data": {
            "text/plain": [
              "False"
            ]
          },
          "metadata": {},
          "execution_count": 188
        }
      ]
    },
    {
      "cell_type": "markdown",
      "source": [
        "**step-8**"
      ],
      "metadata": {
        "id": "ea2dIsSn3Np6"
      }
    },
    {
      "cell_type": "code",
      "source": [
        "def player_choice(board):\n",
        "\n",
        "  free_position=int(input(\"Choose your next Position(1-9):\"))\n",
        "\n",
        "  ask_player=space_check(test_board,free_position)\n",
        "  #print(ask_player)\n",
        "\n",
        "  if ask_player==True:\n",
        "    return free_position\n",
        "\n",
        "  else:\n",
        "    print(\"This position is filled, you lost you turn!\")\n",
        "    return None\n",
        "    #return free_position                                      #this will upadte the position in board\n",
        "  \n",
        "  \n",
        "\n"
      ],
      "metadata": {
        "id": "RCc5cShA3MS9"
      },
      "execution_count": null,
      "outputs": []
    },
    {
      "cell_type": "code",
      "source": [
        "free=player_choice(test_board)\n",
        "free"
      ],
      "metadata": {
        "colab": {
          "base_uri": "https://localhost:8080/"
        },
        "id": "oQ_DjKTI-pEV",
        "outputId": "381b4b93-ad36-4356-ee07-9f74e20872d4"
      },
      "execution_count": null,
      "outputs": [
        {
          "output_type": "stream",
          "name": "stdout",
          "text": [
            "Choose your next Position(1-9):3\n",
            "This position is filled,Choose next one\n"
          ]
        }
      ]
    },
    {
      "cell_type": "markdown",
      "source": [
        "**Step 9:**"
      ],
      "metadata": {
        "id": "JP6bU13qA7Ik"
      }
    },
    {
      "cell_type": "code",
      "source": [
        "def replay():\n",
        "  user=input(\"Want to play again! (Y/N): \")\n",
        "\n",
        "  if user=='Y' or user=='y':\n",
        "    return True\n",
        "  \n",
        "  else:\n",
        "    return False"
      ],
      "metadata": {
        "id": "Uhc2IADLA5uY"
      },
      "execution_count": null,
      "outputs": []
    },
    {
      "cell_type": "code",
      "source": [
        "replay()"
      ],
      "metadata": {
        "colab": {
          "base_uri": "https://localhost:8080/"
        },
        "id": "-3pFMGyHBkU5",
        "outputId": "5ec73192-2701-4642-9277-abb2a79f688f"
      },
      "execution_count": null,
      "outputs": [
        {
          "name": "stdout",
          "output_type": "stream",
          "text": [
            "Want to play agaun! (Y/N): y\n"
          ]
        },
        {
          "output_type": "execute_result",
          "data": {
            "text/plain": [
              "True"
            ]
          },
          "metadata": {},
          "execution_count": 226
        }
      ]
    },
    {
      "cell_type": "markdown",
      "source": [
        "Extra"
      ],
      "metadata": {
        "id": "NWZWVlEjC67q"
      }
    },
    {
      "cell_type": "code",
      "source": [
        ""
      ],
      "metadata": {
        "id": "Dz1PbhbZC6gY"
      },
      "execution_count": null,
      "outputs": []
    },
    {
      "cell_type": "code",
      "source": [
        "from IPython.display import clear_output\n",
        "clear_output()\n",
        "print('Welcome to Tic Tac Toe!')\n",
        "test_board = ['#',' ',' ',' ',' ',' ',' ',' ',' ',' ']\n",
        "\n",
        "\n",
        "while True:\n",
        "  # Set the game up here\n",
        "    #pass\n",
        "  \n",
        "\n",
        "  player_1,player_2=player_input() \n",
        "\n",
        "  play=input(\"Are you ready to play? Enter Y or N.\")\n",
        "\n",
        "  if play=='Y' or play=='y':\n",
        "    game_on=True\n",
        "    display_board(test_board)\n",
        "  else:\n",
        "    break\n",
        "  \n",
        "  #marker=choose_first()\n",
        "\n",
        "  \n",
        "  \n",
        "  while game_on:\n",
        "    if(choose_first()=='X' or choose_first()=='O'):\n",
        "      #player 1 turn\n",
        "     if player_1=='X':                       \n",
        "      free_pos=player_choice(test_board)        \n",
        "      if(free_pos==None):                       #this will print and sikked the current iteration\n",
        "        continue                                # and jumped to first if condition\n",
        "      \n",
        "      else:\n",
        "        pass\n",
        "      new_board=place_marker(test_board,'X',free_pos)\n",
        "        \n",
        "      display_board(test_board)\n",
        "\n",
        "      win=win_check(new_board,player_1)\n",
        "      \n",
        "      if(win==True):\n",
        "        print('Player 1 Wins!')\n",
        "        break\n",
        "      \n",
        "      else:\n",
        "        pass\n",
        "\n",
        "      if player_2=='O':\n",
        "        free_pos=player_choice(test_board)\n",
        "\n",
        "        if(free_pos==None):                       #this will print and sikked the iteration\n",
        "         continue\n",
        "        \n",
        "        else:\n",
        "          pass\n",
        "        \n",
        "        new_board=place_marker(test_board,'O',free_pos)\n",
        "        \n",
        "        display_board(test_board)\n",
        "        \n",
        "        win=win_check(new_board,player_2)\n",
        "\n",
        "        if(win==True):\n",
        "          print('Player 2 Wins')\n",
        "          break\n",
        "    \n",
        "    #player 2 turn\n",
        "    elif player_1=='O':\n",
        "      free_pos=player_choice(test_board)\n",
        "      if(free_pos==None):\n",
        "        continue\n",
        "      \n",
        "        \n",
        "      new_board=place_marker(test_board,'O',free_pos)\n",
        "        \n",
        "      display_board(test_board)\n",
        "\n",
        "      win=win_check(new_board,player_1)\n",
        "      \n",
        "      if(win==True):\n",
        "        print('player 1 wins')\n",
        "        break\n",
        "\n",
        "      if player_2=='X':\n",
        "          free_pos=player_choice(test_board)\n",
        "          if(free_pos==None):\n",
        "            continue\n",
        "        \n",
        "          place_marker(test_board,'X',free_pos)\n",
        "        \n",
        "          display_board(test_board)\n",
        "        \n",
        "          win=win_check(new_board,player_2)\n",
        "          \n",
        "          if(win==True):\n",
        "           print('Player 2 Wins')\n",
        "           break\n",
        "    \n",
        "    checker=full_board_check(test_board)\n",
        "    if(checker==True):\n",
        "      print(\"No winner,Try again\")\n",
        "      break\n",
        "\n",
        "  game_on=replay()\n",
        "\n",
        "  if game_on==False:\n",
        "    print(\"Thanks for playing\")\n",
        "    break\n",
        "  \n",
        "  else:\n",
        "    test_board = ['#',' ',' ',' ',' ',' ',' ',' ',' ',' ']\n",
        "\n",
        "\n",
        "\n",
        "# just add some functionality\n",
        "\n",
        "\n",
        "\n",
        "\n",
        "\n",
        "    \n",
        "      \n",
        "      \n",
        "\n",
        "\n",
        "      \n",
        "\n",
        "\n",
        "        "
      ],
      "metadata": {
        "colab": {
          "base_uri": "https://localhost:8080/"
        },
        "id": "JQ_oUxI0Bn1_",
        "outputId": "7443d1bf-0a08-407e-914a-79fba0dcd908"
      },
      "execution_count": null,
      "outputs": [
        {
          "name": "stdout",
          "output_type": "stream",
          "text": [
            "Welcome to Tic Tac Toe!\n",
            "Do you want to be 'X' or 'O': X\n",
            "Player 1(X) will go first\n",
            "Are you ready to play? Enter Y or N.N\n"
          ]
        }
      ]
    },
    {
      "cell_type": "code",
      "source": [
        ""
      ],
      "metadata": {
        "id": "OGyoBGKID91o"
      },
      "execution_count": null,
      "outputs": []
    },
    {
      "cell_type": "code",
      "source": [
        "from IPython.display import clear_output\n",
        "clear_output()\n",
        "print('Welcome to Tic Tac Toe!')\n",
        "test_board = ['#',' ',' ',' ',' ',' ',' ',' ',' ',' ']\n",
        "\n",
        "\n",
        "while True:\n",
        "  # Set the game up here\n",
        "    #pass\n",
        "  \n",
        "\n",
        "  player_1,player_2=player_input() \n",
        "\n",
        "  play=input(\"Are you ready to play? Enter yes or NO.\")\n",
        "\n",
        "  if play=='Y' or play=='y':\n",
        "    game_on=True\n",
        "    display_board(test_board)\n",
        "  else:\n",
        "    game_on=False\n",
        "  \n",
        "  #marker=choose_first()\n",
        "\n",
        "  \n",
        "  \n",
        "  while game_on:\n",
        "    if(choose_first()=='X'or choose_first()=='O'):\n",
        "     if player_1=='X':\n",
        "      free_pos=player_choice(test_board)\n",
        "      if(free_pos==None):                       #this will print and sikked the current iteration\n",
        "        continue                                # and jumped to first if condition\n",
        "      \n",
        "      else:\n",
        "        pass\n",
        "      new_board=place_marker(test_board,'X',free_pos)\n",
        "        \n",
        "      display_board(test_board)\n",
        "\n",
        "      win=win_check(new_board,player_1)\n",
        "      \n",
        "      if(win==True):\n",
        "        print('Player 1 Wins!')\n",
        "        break\n",
        "      \n",
        "      else:\n",
        "        pass\n",
        "    \n",
        "    \n",
        "    \n",
        "    \n",
        "     \n",
        "     \n",
        "\n",
        "      if player_2=='O':\n",
        "        free_pos=player_choice(test_board)\n",
        "\n",
        "        if(free_pos==None):                       #this will print and sikked the iteration\n",
        "         continue\n",
        "        \n",
        "        else:\n",
        "          pass\n",
        "        \n",
        "        new_board=place_marker(test_board,'O',free_pos)\n",
        "        \n",
        "        display_board(test_board)\n",
        "        \n",
        "        win=win_check(new_board,player_2)\n",
        "\n",
        "        if(win==True):\n",
        "          print('Player 2 Wins')\n",
        "          break\n",
        "  \n",
        "  \n",
        "    \n",
        "        \n",
        "     \n",
        "        \n",
        "    \n",
        "    \n",
        "    elif player_1=='O':\n",
        "      free_pos=player_choice(test_board)\n",
        "      if(free_pos==None):\n",
        "        continue\n",
        "      \n",
        "        \n",
        "      new_board=place_marker(test_board,'O',free_pos)\n",
        "        \n",
        "      display_board(test_board)\n",
        "\n",
        "      win=win_check(new_board,player_1)\n",
        "      \n",
        "      if(win==True):\n",
        "        print('player 1 wins')\n",
        "        break\n",
        "\n",
        "      if player_2=='X':\n",
        "          free_pos=player_choice(test_board)\n",
        "          if(free_pos==None):\n",
        "            continue\n",
        "        \n",
        "          place_marker(test_board,'X',free_pos)\n",
        "        \n",
        "          display_board(test_board)\n",
        "        \n",
        "          win=win_check(new_board,player_2)\n",
        "          \n",
        "          if(win==True):\n",
        "           print('Player 2 Wins')\n",
        "           break\n",
        "          \n",
        "    \n",
        "        \n",
        "   \n",
        "\n",
        "  game_on=replay()\n",
        "\n",
        "  if game_on==False:\n",
        "    print(\"Thanks for playing\")\n",
        "    break\n",
        "  \n",
        "  else:\n",
        "    test_board = ['#',' ',' ',' ',' ',' ',' ',' ',' ',' ']\n",
        "\n",
        "\n",
        "\n",
        "# just add some functionality\n",
        "\n",
        "\n",
        "\n",
        "\n",
        "\n",
        "    \n",
        "      \n",
        "      \n",
        "\n",
        "\n",
        "      \n",
        "\n",
        "\n",
        "        "
      ],
      "metadata": {
        "id": "-blwvz-2HwAh"
      },
      "execution_count": null,
      "outputs": []
    }
  ]
}
